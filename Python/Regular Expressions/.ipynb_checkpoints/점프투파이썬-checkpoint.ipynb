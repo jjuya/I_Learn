{
 "cells": [
  {
   "cell_type": "markdown",
   "metadata": {},
   "source": [
    "### 정규표현식\n",
    "- 복잡한 문자열을 처리할 때 사용\n",
    "- 문자열을 처리하는 모든 곳에서 사용"
   ]
  },
  {
   "cell_type": "markdown",
   "metadata": {},
   "source": [
    "> 주민등록번호를 포함하고 있는 텍스트가 있다. 이 텍스트에 포함된 모든 주민등록번호의 뒷자리를 `*` 문자로 변경하시오.\n",
    "\n",
    "1. 전체 텍스트를 공백 문자로 나눈다(split)\n",
    "2. 나누어진 단어들이 주민등록번호 형식인지 조사\n",
    "3. 단어가 주민등록번호 형식이라면 뒷자기를 `*`로 변환\n",
    "4. 나누어진 단어들을 다시 조립"
   ]
  },
  {
   "cell_type": "code",
   "execution_count": 1,
   "metadata": {
    "collapsed": true
   },
   "outputs": [],
   "source": [
    "data = \"\"\"\n",
    "park 800905-1049118\n",
    "kim  700905-1059119\n",
    "\"\"\""
   ]
  },
  {
   "cell_type": "code",
   "execution_count": 3,
   "metadata": {},
   "outputs": [
    {
     "data": {
      "text/plain": [
       "['', 'park 800905-1049118', 'kim  700905-1059119', '']"
      ]
     },
     "execution_count": 3,
     "metadata": {},
     "output_type": "execute_result"
    }
   ],
   "source": [
    "lines = data.split('\\n')\n",
    "lines"
   ]
  },
  {
   "cell_type": "code",
   "execution_count": 9,
   "metadata": {},
   "outputs": [
    {
     "data": {
      "text/plain": [
       "[[''], ['park', '800905-1049118'], ['kim', '', '700905-1059119'], ['']]"
      ]
     },
     "execution_count": 9,
     "metadata": {},
     "output_type": "execute_result"
    }
   ],
   "source": [
    "word = list(map(lambda x : lines[x].split(' '), range(len(lines))))\n",
    "word"
   ]
  },
  {
   "cell_type": "code",
   "execution_count": 15,
   "metadata": {},
   "outputs": [
    {
     "name": "stdout",
     "output_type": "stream",
     "text": [
      "\n",
      "park\n",
      "800905-1049118\n",
      "kim\n",
      "\n",
      "700905-1059119\n",
      "\n"
     ]
    }
   ],
   "source": [
    "for line in data.split('/n'):\n",
    "    for word in line.split(' '):\n",
    "        print(word)"
   ]
  },
  {
   "cell_type": "code",
   "execution_count": 27,
   "metadata": {},
   "outputs": [
    {
     "name": "stdout",
     "output_type": "stream",
     "text": [
      "['', 'park', '800905-*******', 'kim', '', '700905-*******', '']\n"
     ]
    }
   ],
   "source": [
    "result = []\n",
    "\n",
    "for line in data.split(\"\\n\"):\n",
    "    \n",
    "    for word in line.split(\" \"):\n",
    "        if len(word) == 14 and word[:6].isdigit() and word[7:].isdigit():\n",
    "            word = word[:7] + (\"*\" * 7)\n",
    "        \n",
    "        result.append(word)\n",
    "\n",
    "print(result)"
   ]
  },
  {
   "cell_type": "code",
   "execution_count": 32,
   "metadata": {},
   "outputs": [
    {
     "name": "stdout",
     "output_type": "stream",
     "text": [
      "\n",
      "park 800905-*******\n",
      "kim  700905-*******\n",
      "\n"
     ]
    }
   ],
   "source": [
    "for line in data.split(\"\\n\"):\n",
    "    temp = []\n",
    "    for word in line.split(\" \"):\n",
    "        if len(word) == 14 and word[:6].isdigit() and word[7:].isdigit():\n",
    "            word = word[:7] + (\"*\" * 7)\n",
    "        \n",
    "        temp.append(word)\n",
    "    \n",
    "    print(\" \".join(temp))"
   ]
  },
  {
   "cell_type": "code",
   "execution_count": 37,
   "metadata": {},
   "outputs": [
    {
     "name": "stdout",
     "output_type": "stream",
     "text": [
      "['', 'park 800905-*******', 'kim  700905-*******', '']\n",
      " park 800905-******* kim  700905-******* \n",
      "\n",
      "park 800905-*******\n",
      "kim  700905-*******\n",
      "\n"
     ]
    }
   ],
   "source": [
    "result = []\n",
    "\n",
    "for line in data.split(\"\\n\"):\n",
    "    temp = []\n",
    "    for word in line.split(\" \"):\n",
    "        if len(word) == 14 and word[:6].isdigit() and word[7:].isdigit():\n",
    "            word = word[:7] + (\"*\" * 7)\n",
    "        \n",
    "        temp.append(word)\n",
    "\n",
    "    result.append(\" \".join(temp))\n",
    "    \n",
    "print(result)\n",
    "print(\" \".join(result))\n",
    "print(\"\\n\".join(result))"
   ]
  },
  {
   "cell_type": "markdown",
   "metadata": {},
   "source": [
    "#### 정규표현식으로 풀어보기"
   ]
  },
  {
   "cell_type": "code",
   "execution_count": 38,
   "metadata": {
    "collapsed": true
   },
   "outputs": [],
   "source": [
    "import re"
   ]
  },
  {
   "cell_type": "code",
   "execution_count": 39,
   "metadata": {
    "collapsed": true
   },
   "outputs": [],
   "source": [
    "data = \"\"\"\n",
    "park 800905-1049118\n",
    "kim  700905-1059119\n",
    "\"\"\""
   ]
  },
  {
   "cell_type": "code",
   "execution_count": 44,
   "metadata": {},
   "outputs": [
    {
     "name": "stdout",
     "output_type": "stream",
     "text": [
      "\n",
      "park 800905-*******\n",
      "kim  700905-*******\n",
      "\n"
     ]
    }
   ],
   "source": [
    "pat = re.compile(\"(\\d{6})[-]\\d{7}\")\n",
    "print(pat.sub(\"\\g<1>-*******\", data))"
   ]
  },
  {
   "cell_type": "markdown",
   "metadata": {},
   "source": [
    "### 메타 문자\n",
    "\n",
    "- 메타 문자란 원래 그 문자가 가진 뜻이 아닌 특별한 용도로 사용되는 문자\n",
    "\n",
    "``` \n",
    ". ^ $ * + ? { } [ ] \\ | ( ) `\n",
    "```"
   ]
  },
  {
   "cell_type": "markdown",
   "metadata": {},
   "source": [
    "#### 문자 클래스 []\n",
    "- \"[\"와 \"]\" 사이에는 어떤 문자도 들어갈 수 있다\n",
    "- `[abc]` : a, b, c 중 한 개의 문자와 매치\n",
    "    - \"a\"는 정규식과 일치하는 문자인 \"a\"가 있으므로 매치\n",
    "    - \"before\"는 정규식과 일치하는 문자인 \"b\"가 있으므로 매치\n",
    "    - \"dude\"는 정규식과 일치하는 문자인 a, b, c 중 어느 하나도 포함하고 있지 않으므로 매치되지 않음\n",
    "    "
   ]
  },
  {
   "cell_type": "markdown",
   "metadata": {},
   "source": [
    "- [] 안의 두 문자 사이에 하이픈(-)을 사용하게 되면 두 문자 사아의 범위(from - to)를 의미\n",
    "    - `[a-c]` : `[abc]`\n",
    "    - `[0-5]` : `[012345]`\n",
    "\n",
    "\n",
    "- `[a-zA-Z]` : 알파벳 모두\n",
    "- `[0-9]` : 숫자"
   ]
  },
  {
   "cell_type": "markdown",
   "metadata": {},
   "source": [
    "##### 자주 사용하는 문자 클래스\n",
    "\n",
    "- [0-9] 또는 [a-zA-Z] 등은 무척 자주 사용하는 정규 표현식 \n",
    "\n",
    "\n",
    "\n",
    "- \\d : \n",
    "    - 숫자와 매치\n",
    "    - [0-9]와 동일한 표현식\n",
    "- \\D : \n",
    "    - 숫자가 아닌 것과 매치\n",
    "    - [^0-9]와 동일한 표현식\n",
    "- \\s : \n",
    "    - whitespace 문자와 매치, [ \\t\\n\\r\\f\\v]와 동일한 표현식\n",
    "    - 맨 앞의 빈 칸은 공백문자(space)를 의미\n",
    "- \\S : \n",
    "    - whitespace 문자가 아닌 것과 매치, \n",
    "    - [^ \\t\\n\\r\\f\\v]와 동일한 표현식\n",
    "- \\w : \n",
    "    - 문자+숫자(alphanumeric)와 매치\n",
    "    - [a-zA-Z0-9]와 동일한 표현식이다.\n",
    "- \\W : \n",
    "    - 문자+숫자(alphanumeric)가 아닌 문자와 매치\n",
    "    - [^a-zA-Z0-9]와 동일한 표현식이다.\n",
    "\n",
    "\n",
    " > 대문자로 사용된 것은 소문자의 반대임을 추측"
   ]
  },
  {
   "cell_type": "markdown",
   "metadata": {
    "collapsed": true
   },
   "source": [
    "#### Dot(.)\n",
    "- 줄바꿈 문자인 `\\n`를 제외한 모든 문자와 매치\n",
    "- re.DOTALL이라는 옵션을 주면 `\\n` 문자와도 매치\n",
    "\n",
    "\n",
    "- `a.b` : a + 모든문자 + b\n",
    "    - \"aab\"는 가운데 문자 \"a\"가 모든 문자를 의미하는 .과 일치하므로 정규식과 매치\n",
    "    - \"a0b\"는 가운데 문자 \"0\"가 모든 문자를 의미하는 .과 일치하므로 정규식과 매치\n",
    "    - \"abc\"는 \"a\"문자와 \"b\"문자 사이에 어떤 문자라도 하나는있어야 하는 이 정규식과 일치하지 않으므로 매치 X\n",
    "    \n",
    "\n",
    "- `a[.]b` : a + Dot(.)문자 + b\n",
    "    - \"a.b\"라는 문자열과는 매치\n",
    "    - \"a0b\"라는 문자와는 매치 X"
   ]
  },
  {
   "cell_type": "markdown",
   "metadata": {},
   "source": [
    "#### 반복(*)\n",
    "- 반복을 의미한는 `*` 메타문자가 사용\n",
    "- `*`바로 앞에 있는 문자 a가 0부터 무한대로 반복\n",
    "\n",
    "\n",
    "- `ca*t` : c + a(0~) + t\n",
    "    - \"ct\"는 \"a\"가 0번 반복되어 매치\n",
    "    - \"cat\"는 \"a\"가 0번 이상 반복되어 매치 (1번 반복)\n",
    "    - \"caaat\"는 \"a\"가 0번 이상 반복되어 매치 (3번 반복)"
   ]
  },
  {
   "cell_type": "markdown",
   "metadata": {},
   "source": [
    "#### 반복(+)\n",
    "- `+`는 최소 1번 이상 반복될 때 사용\n",
    "- `*`가 반복 횟수 0부터라면 `+`는 반복 횟수 1부터\n",
    "\n",
    "\n",
    "- `ca+t` : c + a(1~) + t\n",
    "    - \"ct\" : \"a\"가 0번 반복되어 매치되지 않음\n",
    "    - \"cat\" : \"a\"가 1번 이상 반복되어 매치 (1번 반복)\n",
    "    - \"caaat\" : \"a\"가 1번 이상 반복되어 매치 (3번 반복)"
   ]
  },
  {
   "cell_type": "markdown",
   "metadata": {},
   "source": [
    "#### 반복({m, n}, ?)\n",
    "- 반복 횟수 제한\n",
    "- {m, n} 정규식을 사용하면 반복 횟수가 m부터 n까지인 것을 매치\n",
    "    - m 또는 n을 생략 가능\n",
    "    - `{3,}` : 반복 횟수가 3 이상인 경우 (n = 무한대(2억개 미만))\n",
    "    - `{,3}` : 사용하면 반복 횟수가 3 이하 (m = 0)\n",
    "\n",
    "\n",
    "- `ca{2}t` : c + a(반드시 2번 반복) + t\n",
    "    - \"cat\" : \"a\"가 1번만 반복되어 매치되지 않음\n",
    "    - \"caat\" : \"a\"가 2번 반복되어 매치\n",
    "    \n",
    "    \n",
    "- `ca{2, 5}t` : c + a(2~5회 반복) + t\n",
    "    - \"cat\" : \"a\"가 1번만 반복되어 매치되지 않음\n",
    "    - \"caat\" : \"a\"가 2번 반복되어 매치 \n",
    "    - \"caaaaat\" : \"a\"가 5번 반복되어 매치"
   ]
  },
  {
   "cell_type": "markdown",
   "metadata": {},
   "source": [
    "#### '?'\n",
    "- `{0, 1}`\n",
    "\n",
    "\n",
    "- `ab?c` : a + b(있어도 되고 없어도 된다) + c\n",
    "    - \"abc\" : \"b\"가 1번 사용되어 매치\n",
    "    - \"ac\" : \"b\"가 0번 사용되어 매치"
   ]
  },
  {
   "cell_type": "markdown",
   "metadata": {},
   "source": [
    "### re 모듈\n",
    "- 파이썬은 정규 표현식(regular expression) 모듈"
   ]
  },
  {
   "cell_type": "code",
   "execution_count": 1,
   "metadata": {
    "collapsed": true
   },
   "outputs": [],
   "source": [
    "import re\n",
    "p = re.compile('ab*')"
   ]
  },
  {
   "cell_type": "markdown",
   "metadata": {},
   "source": [
    "1. re.compile 을 이용하여 정규표현식(위 예에서는 ab\\*)을 컴파일\n",
    "2. 컴파일된 패턴객체(re.compile의 결과로 리턴되는 객체 p)를 이용하여 그 이후의 작업을 수행"
   ]
  },
  {
   "cell_type": "markdown",
   "metadata": {},
   "source": [
    "### 정규식을 이용한 문자열 검색\n",
    "\n",
    "\n",
    "|Method|목적|\n",
    "|---|---|\n",
    "|match()|문자열의 처음부터 정규식과 매치되는지 조사|\n",
    "|search()|문자열 전체를 검색하여 정규식과 매치되는지 조사|\n",
    "|findall()|정규식과 매치되는 모든 문자열(substring)을 리스트로 리턴|\n",
    "|finditer()|정규식과 매치되는 모든 문자열(substring)을 iterator 객체로 리턴|\n",
    "\n",
    "- match, search는 정규식과 매치될 때에는 match 객체를 리턴하고 매치되지 않을 경우에는 None을 리턴"
   ]
  },
  {
   "cell_type": "code",
   "execution_count": 64,
   "metadata": {
    "collapsed": true
   },
   "outputs": [],
   "source": [
    "import re\n",
    "p = re.compile('[a-z]+')"
   ]
  },
  {
   "cell_type": "markdown",
   "metadata": {},
   "source": [
    "#### match\n",
    "- 문자열의 처음부터 정규식과 매치되는지 조사"
   ]
  },
  {
   "cell_type": "code",
   "execution_count": 29,
   "metadata": {},
   "outputs": [
    {
     "name": "stdout",
     "output_type": "stream",
     "text": [
      "<_sre.SRE_Match object; span=(0, 6), match='python'>\n"
     ]
    }
   ],
   "source": [
    "m = p.match(\"python\")\n",
    "print(m)"
   ]
  },
  {
   "cell_type": "code",
   "execution_count": 35,
   "metadata": {},
   "outputs": [
    {
     "name": "stdout",
     "output_type": "stream",
     "text": [
      "<_sre.SRE_Match object; span=(0, 6), match='python'>\n"
     ]
    }
   ],
   "source": [
    "m = p.match(\"python 3\")\n",
    "print(m)"
   ]
  },
  {
   "cell_type": "code",
   "execution_count": 36,
   "metadata": {},
   "outputs": [
    {
     "name": "stdout",
     "output_type": "stream",
     "text": [
      "None\n"
     ]
    }
   ],
   "source": [
    "m = p.match(\"3 python\")\n",
    "print(m)"
   ]
  },
  {
   "cell_type": "code",
   "execution_count": 38,
   "metadata": {},
   "outputs": [
    {
     "name": "stdout",
     "output_type": "stream",
     "text": [
      "None\n"
     ]
    }
   ],
   "source": [
    "m = p.match(\"@ python\")\n",
    "print(m)"
   ]
  },
  {
   "cell_type": "code",
   "execution_count": 39,
   "metadata": {
    "scrolled": true
   },
   "outputs": [
    {
     "name": "stdout",
     "output_type": "stream",
     "text": [
      "<_sre.SRE_Match object; span=(0, 6), match='python'>\n"
     ]
    }
   ],
   "source": [
    "m = p.match(\"python @\")\n",
    "print(m)"
   ]
  },
  {
   "cell_type": "code",
   "execution_count": 42,
   "metadata": {
    "collapsed": true
   },
   "outputs": [],
   "source": [
    "pat = re.compile('[[a-zA-Z]+[ .,!?]*]+')"
   ]
  },
  {
   "cell_type": "code",
   "execution_count": 49,
   "metadata": {},
   "outputs": [
    {
     "name": "stdout",
     "output_type": "stream",
     "text": [
      "None\n",
      "None\n",
      "None\n",
      "None\n",
      "None\n"
     ]
    }
   ],
   "source": [
    "m = pat.match(\"python 3\")\n",
    "print(m)\n",
    "m = pat.match(\"python\")\n",
    "print(m)\n",
    "m = pat.match(\"@ python\")\n",
    "print(m)\n",
    "m = pat.match(\"python @\")\n",
    "print(m)\n",
    "m = pat.match(\"   \")\n",
    "print(m)"
   ]
  },
  {
   "cell_type": "code",
   "execution_count": 48,
   "metadata": {},
   "outputs": [
    {
     "name": "stdout",
     "output_type": "stream",
     "text": [
      "None\n"
     ]
    }
   ],
   "source": [
    "m = pat.match(\"pytHon !\")\n",
    "print(m)"
   ]
  },
  {
   "cell_type": "markdown",
   "metadata": {},
   "source": [
    "#### search\n",
    "- 문자열 전체를 검색"
   ]
  },
  {
   "cell_type": "code",
   "execution_count": 50,
   "metadata": {},
   "outputs": [
    {
     "name": "stdout",
     "output_type": "stream",
     "text": [
      "<_sre.SRE_Match object; span=(0, 6), match='python'>\n"
     ]
    }
   ],
   "source": [
    "m = p.search(\"python\")\n",
    "print(m)"
   ]
  },
  {
   "cell_type": "code",
   "execution_count": 51,
   "metadata": {},
   "outputs": [
    {
     "name": "stdout",
     "output_type": "stream",
     "text": [
      "<_sre.SRE_Match object; span=(2, 8), match='python'>\n"
     ]
    }
   ],
   "source": [
    "m = p.search(\"3 python\")\n",
    "print(m)"
   ]
  },
  {
   "cell_type": "markdown",
   "metadata": {},
   "source": [
    "#### findall\n",
    "- 패턴과 매치된 것들이 리스트로 반환"
   ]
  },
  {
   "cell_type": "code",
   "execution_count": 52,
   "metadata": {},
   "outputs": [
    {
     "name": "stdout",
     "output_type": "stream",
     "text": [
      "['life', 'is', 'too', 'short']\n"
     ]
    }
   ],
   "source": [
    "result = p.findall(\"life is too short\")\n",
    "print(result)"
   ]
  },
  {
   "cell_type": "markdown",
   "metadata": {},
   "source": [
    "#### finditer\n",
    "- 반복 가능한 객체(iterator object)를 리턴"
   ]
  },
  {
   "cell_type": "code",
   "execution_count": 53,
   "metadata": {},
   "outputs": [
    {
     "name": "stdout",
     "output_type": "stream",
     "text": [
      "<callable_iterator object at 0x000001FD1D2BD1D0>\n",
      "<_sre.SRE_Match object; span=(0, 4), match='life'>\n",
      "<_sre.SRE_Match object; span=(5, 7), match='is'>\n",
      "<_sre.SRE_Match object; span=(8, 11), match='too'>\n",
      "<_sre.SRE_Match object; span=(12, 17), match='short'>\n"
     ]
    }
   ],
   "source": [
    "result = p.finditer(\"life is too short\")\n",
    "print(result)\n",
    "for r in result : print(r)"
   ]
  },
  {
   "cell_type": "markdown",
   "metadata": {},
   "source": [
    "### match 객체의 메서드\n",
    "- 어떤 문자열이 매치되었는가?\n",
    "- 매치된 문자열의 인덱스는 어디서부터인가?\n",
    "\n",
    "|method|목적|\n",
    "|---|---|\n",
    "|group()|매치된 문자열을 리턴한다.|\n",
    "|start()|매치된 문자열의 시작 위치를 리턴한다.|\n",
    "|end()|매치된 문자열의 끝 위치를 리턴한다.|\n",
    "|span()|매치된 문자열의 (시작, 끝) 에 해당되는 튜플을 리턴한다.|"
   ]
  },
  {
   "cell_type": "code",
   "execution_count": 59,
   "metadata": {},
   "outputs": [
    {
     "name": "stdout",
     "output_type": "stream",
     "text": [
      "group : python\n",
      "start point : 0\n",
      "end point : 6\n",
      "span : (0, 6)\n"
     ]
    }
   ],
   "source": [
    "m = p.match(\"python\")\n",
    "\n",
    "print(\"group : \" + m.group())\n",
    "print(\"start point : \" + str(m.start()))\n",
    "print(\"end point : \" + str(m.end()))\n",
    "print(\"span : \" + str(m.span()))"
   ]
  },
  {
   "cell_type": "code",
   "execution_count": 61,
   "metadata": {},
   "outputs": [
    {
     "name": "stdout",
     "output_type": "stream",
     "text": [
      "group : python\n",
      "start point : 2\n",
      "end point : 8\n",
      "span : (2, 8)\n"
     ]
    }
   ],
   "source": [
    "m = p.search(\"3 python\")\n",
    "\n",
    "print(\"group : \" + m.group())\n",
    "print(\"start point : \" + str(m.start()))\n",
    "print(\"end point : \" + str(m.end()))\n",
    "print(\"span : \" + str(m.span()))"
   ]
  },
  {
   "cell_type": "markdown",
   "metadata": {},
   "source": [
    "##### 모듈 단위로 수행\n",
    "- 컴파일과 match 메서드를 한 번에 수행\n",
    "- 패턴 객체를 여러번 사용해야 할 때는 re.compile을 사용하는 것이 유리"
   ]
  },
  {
   "cell_type": "code",
   "execution_count": 62,
   "metadata": {
    "collapsed": true
   },
   "outputs": [],
   "source": [
    "p = re.compile('[a-z]+')\n",
    "m = p.match(\"python\")"
   ]
  },
  {
   "cell_type": "code",
   "execution_count": 63,
   "metadata": {
    "collapsed": true
   },
   "outputs": [],
   "source": [
    "m = re.match('[a-z]+', \"python\")"
   ]
  },
  {
   "cell_type": "markdown",
   "metadata": {},
   "source": [
    "### 컴파일 옵션\n",
    "- DOTALL(S) : . 이 줄바꿈 문자를 포함하여 모든 문자와 매치\n",
    "- IGNORECASE(I) : 대소문자에 관계없이 매치\n",
    "- MULTILINE(M) : 여러줄과 매치(^, $ 메타문자의 사용과 관계가 있는 옵션)\n",
    "- VERBOSE(X) : verbose 모드를 사용(정규식을 보기 편하게 만들수 있고 주석등을 사용)"
   ]
  },
  {
   "cell_type": "markdown",
   "metadata": {},
   "source": [
    "#### DOTALL, S\n",
    "- `.` :  줄바꿈 문자(`\\n`)를 제외한 모든 문자와 매치되는 규칙\n",
    "- `re.DOTALL`은 여러줄로 이루어진 문자열에서 \\n에 상관없이 검색"
   ]
  },
  {
   "cell_type": "code",
   "execution_count": 66,
   "metadata": {},
   "outputs": [
    {
     "name": "stdout",
     "output_type": "stream",
     "text": [
      "None\n"
     ]
    }
   ],
   "source": [
    "p = re.compile('a.b')\n",
    "m = p.match('a\\nb')\n",
    "print(m)"
   ]
  },
  {
   "cell_type": "code",
   "execution_count": 67,
   "metadata": {},
   "outputs": [
    {
     "name": "stdout",
     "output_type": "stream",
     "text": [
      "<_sre.SRE_Match object; span=(0, 3), match='a\\nb'>\n"
     ]
    }
   ],
   "source": [
    "p = re.compile('a.b', re.DOTALL)\n",
    "m = p.match('a\\nb')\n",
    "print(m)"
   ]
  },
  {
   "cell_type": "markdown",
   "metadata": {},
   "source": [
    "#### IGNORECASE, I\n",
    "- `re.IGNORECASE` 또는 `re.I` 는 대소문자 구분없이 매치를 수행"
   ]
  },
  {
   "cell_type": "code",
   "execution_count": 68,
   "metadata": {},
   "outputs": [
    {
     "name": "stdout",
     "output_type": "stream",
     "text": [
      "<_sre.SRE_Match object; span=(0, 1), match='p'>\n",
      "<_sre.SRE_Match object; span=(0, 1), match='P'>\n",
      "<_sre.SRE_Match object; span=(0, 1), match='P'>\n"
     ]
    }
   ],
   "source": [
    "p = re.compile('[a-z]', re.I)\n",
    "print(p.match('python'))\n",
    "print(p.match('Python'))\n",
    "print(p.match('PYTHON'))"
   ]
  },
  {
   "cell_type": "markdown",
   "metadata": {},
   "source": [
    "#### MULTILINE, M\n",
    "- `^`, `$`와 연관된 옵션\n",
    "    - `^` : 문자열의 시작\n",
    "    - `$` : 문자열의 끝\n",
    "- `re.MULTILINE` 옵션은 `^, $`메타 문자를 문자열의 각 라인마다 적용"
   ]
  },
  {
   "cell_type": "code",
   "execution_count": 69,
   "metadata": {},
   "outputs": [
    {
     "name": "stdout",
     "output_type": "stream",
     "text": [
      "['python one']\n"
     ]
    }
   ],
   "source": [
    "p = re.compile(\"^python\\s\\w+\")\n",
    "# \"python\"이라는 문자열로 시작하고 \n",
    "# whitespace와야 한다.\n",
    "# 그 다음에 단어가 와야한다는 의미\n",
    "\n",
    "data = \"\"\"python one\n",
    "life is too short\n",
    "python two\n",
    "you need python\n",
    "python three\"\"\"\n",
    "\n",
    "print(p.findall(data))"
   ]
  },
  {
   "cell_type": "code",
   "execution_count": 71,
   "metadata": {},
   "outputs": [
    {
     "name": "stdout",
     "output_type": "stream",
     "text": [
      "['python one', 'python two', 'python three']\n"
     ]
    }
   ],
   "source": [
    "p = re.compile(\"^python\\s\\w+\", re.MULTILINE)\n",
    "\n",
    "data = \"\"\"python one\n",
    "life is too short\n",
    "python two\n",
    "you need python\n",
    "python three\"\"\"\n",
    "\n",
    "print(p.findall(data))"
   ]
  },
  {
   "cell_type": "markdown",
   "metadata": {},
   "source": [
    "#### VERBOSE, X\n",
    "- 이해하기 어려운 정규식을 주석 또는 라인 단위로 구분"
   ]
  },
  {
   "cell_type": "code",
   "execution_count": 72,
   "metadata": {
    "collapsed": true
   },
   "outputs": [],
   "source": [
    "charref = re.compile(r'&[#](0[0-7]+|[0-9]+|x[0-9a-fA-F]+);')"
   ]
  },
  {
   "cell_type": "code",
   "execution_count": 73,
   "metadata": {
    "collapsed": true
   },
   "outputs": [],
   "source": [
    "charref = re.compile(r\"\"\"\n",
    " &[#]                # Start of a numeric entity reference\n",
    " (\n",
    "     0[0-7]+         # Octal form\n",
    "   | [0-9]+          # Decimal form\n",
    "   | x[0-9a-fA-F]+   # Hexadecimal form\n",
    " )\n",
    " ;                   # Trailing semicolon\n",
    "\"\"\", re.VERBOSE)"
   ]
  }
 ],
 "metadata": {
  "kernelspec": {
   "display_name": "Python 3",
   "language": "python",
   "name": "python3"
  },
  "language_info": {
   "codemirror_mode": {
    "name": "ipython",
    "version": 3
   },
   "file_extension": ".py",
   "mimetype": "text/x-python",
   "name": "python",
   "nbconvert_exporter": "python",
   "pygments_lexer": "ipython3",
   "version": "3.6.1"
  }
 },
 "nbformat": 4,
 "nbformat_minor": 2
}
